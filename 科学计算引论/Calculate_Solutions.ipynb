{
 "cells": [
  {
   "cell_type": "markdown",
   "source": [
    "用分点 $a_{0}=a,x_{0}=\\frac{1}{2}(a+b),b_{0}=b$ 将区间 $[a,b]$ 二等分\n",
    "\n",
    "并计算函数值 $f(x_{0}).$ 若 $f(x_{0})=0,$ 则求得实根 $x^*=x_0;$ 否则$f(x_{0})$与 $f(a)$ 或 $f(b)$ 异号.若 $f(a)f(x_{0})<0,$ 则根在区间 $[a,x_0]$内,取 $a_1=a,b_1=x_0;$ 若 $f(x_0)f(b)<0,$ 则根在区间 $[x_0,b]$ 内,取\n",
    "$$\n",
    "a_1=x_0,b_1=b.\n",
    "$$\n",
    "\n",
    "不断重复上述二分步骤,则可得系列隔离区间\n",
    "\n",
    "$$\n",
    "[a_0,b_0]\\supset[a_1,b_1]\\supset[a_2,b_2]\\supset\\cdots\\supset[a_k,b_k]\\supset\\cdots\n",
    "$$\n",
    "\n",
    "其中二分$k$次后的隔离区间 $[a_{k},b_{k}]$ 的长度为\n",
    "\n",
    "$$\n",
    "b_k-a_k=\\frac1{2^k}(b-a).\n",
    "$$\n",
    "\n",
    "若记隔离区间 $[a_k,b_k]$ 的中点 $x_{k}=\\frac{1}{2}(a_{k}+b_{k}),$ 则有：\n",
    "\n",
    "$$\n",
    "\\begin{aligned}|x^*-x_k|\\leqslant\\frac{1}{2}(b_k-a_k)=\\frac{1}{2^{k+1}}(b-a),\\quad k=0,1,2,\\cdots.\\end{aligned}\n",
    "$$\n",
    "\n",
    "由此可知,随着二分次数 $\\text{k}$ 的增加,序列 $\\{x_k\\}$ 愈来愈逼近精确解 $x^{*}.$ 因此,我们可取序列 $\\{x_k\\}$ 作为精确解$x^*$的逼近解序列若预定精度要求为 $\\varepsilon>0:|x^{*}-x_{k}|<\\varepsilon,$ ,我们只需\n",
    "\n",
    "$$\n",
    "k>\\frac{\\ln(b-a)-\\ln(2\\varepsilon)}{\\ln2}.\n",
    "$$\n",
    "\n",
    "以上即为二分法的过程，下面给出二分法的Python实现:"
   ],
   "metadata": {
    "collapsed": false
   }
  },
  {
   "cell_type": "code",
   "execution_count": 3,
   "outputs": [
    {
     "name": "stdout",
     "output_type": "stream",
     "text": [
      "Epoch 1: (1, 2, 1.5)\n",
      "Epoch 2: (1, 1.5, 1.25)\n",
      "Epoch 3: (1.25, 1.5, 1.375)\n",
      "Epoch 4: (1.375, 1.5, 1.4375)\n",
      "Epoch 5: (1.375, 1.4375, 1.40625)\n",
      "Epoch 6: (1.40625, 1.4375, 1.421875)\n",
      "Epoch 7: (1.40625, 1.421875, 1.4140625)\n",
      "Epoch 8: (1.4140625, 1.421875, 1.41796875)\n",
      "Epoch 9: (1.4140625, 1.41796875, 1.416015625)\n",
      "Epoch 10: (1.4140625, 1.416015625, 1.4150390625)\n",
      "Epoch 11: (1.4140625, 1.4150390625, 1.41455078125)\n",
      "Epoch 12: (1.4140625, 1.41455078125, 1.414306640625)\n",
      "Epoch 13: (1.4140625, 1.414306640625, 1.4141845703125)\n",
      "Epoch 14: (1.4141845703125, 1.414306640625, 1.41424560546875)\n",
      "Epoch 15: (1.4141845703125, 1.41424560546875, 1.414215087890625)\n",
      "Epoch 16: (1.4141845703125, 1.414215087890625, 1.4141998291015625)\n",
      "Epoch 17: (1.4141998291015625, 1.414215087890625, 1.4142074584960938)\n",
      "Epoch 18: (1.4142074584960938, 1.414215087890625, 1.4142112731933594)\n",
      "Epoch 19: (1.4142112731933594, 1.414215087890625, 1.4142131805419922)\n",
      "Epoch 20: (1.4142131805419922, 1.414215087890625, 1.4142141342163086)\n",
      "Epoch 21: (1.4142131805419922, 1.4142141342163086, 1.4142136573791504)\n",
      "Epoch 22: (1.4142131805419922, 1.4142136573791504, 1.4142134189605713)\n",
      "Epoch 23: (1.4142134189605713, 1.4142136573791504, 1.4142135381698608)\n",
      "Epoch 24: (1.4142135381698608, 1.4142136573791504, 1.4142135977745056)\n"
     ]
    },
    {
     "data": {
      "text/plain": "1.4142135977745056"
     },
     "execution_count": 3,
     "metadata": {},
     "output_type": "execute_result"
    }
   ],
   "source": [
    "import numpy as np\n",
    "def f(x): # 定义需要二分迭代函数\n",
    "    return x ** 2 - 2\n",
    "\n",
    "\n",
    "def binary_sol(a, b, epsilon):\n",
    "    count = 0\n",
    "    if f(a) * f(b) > 0:\n",
    "        raise \"Input error. Program Terminate\"\n",
    "    c = 0\n",
    "    while(True):\n",
    "        c = (a + b) / 2\n",
    "        print(f\"Epoch {count+1}: {a, b, c}\")\n",
    "        if f(c) * f(a) < 0:\n",
    "            b = c\n",
    "        elif f(c) * f(b) < 0:\n",
    "            a = c\n",
    "        if np.abs(a - b) < epsilon:\n",
    "            return c\n",
    "        count = count + 1\n",
    "res = binary_sol(1, 2, 10e-8)\n",
    "res"
   ],
   "metadata": {
    "collapsed": false,
    "ExecuteTime": {
     "end_time": "2023-10-17T10:51:41.455169300Z",
     "start_time": "2023-10-17T10:51:41.444986Z"
    }
   }
  },
  {
   "cell_type": "markdown",
   "source": [
    "#### Picard迭代法\n",
    "\n",
    "​\t**定理2**：设 Picard迭代格式（2.12)中的迭代函数 $\\varphi(x)$ 满足下列条件：\n",
    "$$\n",
    "\\begin{aligned}\n",
    "&(1)\\forall x\\in[a,b],a\\leqslant\\varphi(x)\\leqslant b;\\\\\n",
    "&(2)\\exist q\\in(0,1), s.t.\\forall x\\in[a,b],|\\varphi^{\\prime}(x)|\\leqslant q<1,\n",
    "\\end{aligned}\n",
    "$$\n",
    "​\t则该迭代格式自任意初值$x_0\\in[a,b]$ 出发均收敛于方程$x=\\varphi(x)$的根 $x^*$,且有如下误差估计:\n",
    "$$\n",
    "\\begin{aligned}\n",
    "&(a) |x^*-x_k|\\leq\\frac{1}{1-q}|x_{k+1}-x_{k}|\\\\\n",
    "&(b)|x^*-x_k|\\leq\\frac{q^k}{1-q}|x_{1}-x_{0}|\n",
    "\\end{aligned}\n",
    "$$\n",
    "证明：\n",
    "\n",
    "事实上：我们有$|x_{k+1}-x_k|=|\\varphi^\\prime(\\zeta)||x_{k}-x_{k-1}|\\leq q|x_{k}-x_{k-1}|\\leq q^2|x_{k-1}-x_{k-2}|\\leq\\ldots\\leq q^{k}|x_1-x_0|$\n",
    "$$\n",
    "\\begin{aligned}\n",
    "|x_{n+p}-x_k|&=|x_{n+p}-x_{n+p-1}+x_{n+p-1}-x_{n+p-2}+\\ldots+x_{k+1}-x_{k}|\\\\\n",
    "&\\leq|x_{n+p}-x_{n+p-1}|+|x_{n+p-1}-x_{n+p-2}|+\\ldots+|x_{k+1}-x_{k}|\\\\\n",
    "&\\leq q^{p-1}|x_{k+1}-x_{k}|+q^{p-2}|x_{k+1}-x_{k}|+\\ldots+|x_{k+1}-x_{k}|\\\\\n",
    "&=(q^{p-1}+q^{p-2}+\\ldots+1)|x_{k+1}-x_{k}|\\\\\n",
    "&=\\frac{1-q^{p-1}}{1-q}|x_{k+1}-x_{k}|\n",
    "\\end{aligned}\n",
    "$$\n",
    "当$p\\to\\infty$时， $\\displaystyle|x^*-x_k|\\leq\\frac{1}{1-q}|x_{k+1}-x_{k}|$\n",
    "\n",
    "由上式易得：$\\displaystyle|x^*-x_k|\\leq\\frac{q^k}{1-q}|x_{1}-x_{0}|$\n",
    "\n",
    "​\t **局部收敛定理：**\n",
    "$$\n",
    "\\begin{aligned}\n",
    "&(a)\\exist \\delta>0,\\varphi(x)\\in CN(x^*,\\delta)\\\\\n",
    "&(b)|\\varphi^\\prime(x)|\\leq1\n",
    "\\end{aligned}\n",
    "$$\n",
    "满足以上条件也可保证$x=\\varphi(x)$局部收敛\n",
    "\n",
    "**关于改造迭代函数的方法1** ：\n",
    "\n",
    "​\t给定方程$f(x)=0$求其根，最容易想到的方法就是在方程两边同时加上$x$，变为$x=f(x)+x=\\varphi(x)$，但是迭代函数并不一定能满足收敛条件，下面介绍一种改造迭代函数的方法：\n",
    "\n",
    "- 首先确定$f^\\prime(x)\\in[m,M],0\\leq m \\leq M$\n",
    "\n",
    "- 修改方程为：$x=x-\\lambda f(x)\\Rightarrow \\varphi(x)=x-\\lambda f(x)$\n",
    "\n",
    "- 确定$\\lambda$的取值\n",
    "  $$\n",
    "  \\begin{aligned}\n",
    "  &|\\varphi^\\prime(x)|=|1-\\lambda f^\\prime(x)|<1\\\\\n",
    "  \\Leftrightarrow&\\quad -1<1-\\lambda f^\\prime(x)<1\\\\\n",
    "  \\Leftrightarrow&\\quad 0<\\lambda f^\\prime(x)<2\\\\\n",
    "  \\Leftrightarrow&\\quad 0<\\lambda<\\frac2M\\\\\n",
    "  \\end{aligned}\n",
    "  $$\n",
    "\n",
    "**关于改造迭代函数的方法2** ：\n",
    "\n",
    "​\t给定迭代方程$x=\\varphi(x)$，改造迭代函数$\\phi(x)=\\varphi(x)+\\lambda[\\varphi(x)-x]s.t.\\phi(x^*)\\approx0$，此时近似有：\n",
    "$$\n",
    "\\lambda=\\frac{\\varphi^{\\prime}(x^*)}{1-\\varphi^{\\prime}(x^*)}\\approx\\frac{\\varphi^{\\prime}(x_k)}{1-\\varphi^{\\prime}(x_k)}\n",
    "$$\n",
    "​\t这种方法实际上调节了每次迭代的步长（类似与神经网络中的学习率控制参数更新速度）"
   ],
   "metadata": {
    "collapsed": false
   }
  },
  {
   "cell_type": "code",
   "execution_count": 37,
   "outputs": [
    {
     "name": "stdout",
     "output_type": "stream",
     "text": [
      "Epoch 1: (1.2111999999999998, 0.24)\n",
      "Epoch 2: (1.4776972800000001, 1.2111999999999998)\n",
      "Epoch 3: (1.3859026543403008, 1.4776972800000001)\n",
      "Epoch 4: (1.425539570686555, 1.3859026543403008)\n",
      "Epoch 5: (1.4094580368899512, 1.425539570686555)\n",
      "Epoch 6: (1.4161720580131136, 1.4094580368899512)\n",
      "Epoch 7: (1.4134004090645649, 1.4161720580131136)\n",
      "Epoch 8: (1.4145500508926252, 1.4134004090645649)\n",
      "Epoch 9: (1.4140741276524609, 1.4145500508926252)\n",
      "Epoch 10: (1.4142713084044267, 1.4140741276524609)\n",
      "Epoch 11: (1.414189641516442, 1.4142713084044267)\n",
      "Epoch 12: (1.4142234704302405, 1.414189641516442)\n",
      "Epoch 13: (1.4142094582723639, 1.4142234704302405)\n",
      "Epoch 14: (1.4142152623388573, 1.4142094582723639)\n",
      "Epoch 15: (1.4142128582227758, 1.4142152623388573)\n",
      "Epoch 16: (1.4142138540414595, 1.4142128582227758)\n",
      "Epoch 17: (1.4142134415600602, 1.4142138540414595)\n",
      "Epoch 18: (1.4142136124154852, 1.4142134415600602)\n"
     ]
    },
    {
     "data": {
      "text/plain": "1.4142135416448571"
     },
     "execution_count": 37,
     "metadata": {},
     "output_type": "execute_result"
    }
   ],
   "source": [
    "def h(x):\n",
    "    return x**2 - 2\n",
    "\n",
    "def Picard(x, epsilon):\n",
    "    x_new = 0\n",
    "    count = 0\n",
    "    while(True):\n",
    "        x_new = h(x) + x\n",
    "        if np.abs(x_new - x) < epsilon or count > 100:\n",
    "            break\n",
    "        print(f\"Epoch {count+1}: {x_new, x}\")\n",
    "        x = x_new\n",
    "        count += 1\n",
    "    return x_new\n",
    "\n",
    "def Picard_new(x, omega, epsilon):# 改进的Picard算法\n",
    "    x_new = 0\n",
    "    count = 0\n",
    "    while(True):\n",
    "        x_new = x - omega * h(x)\n",
    "        if np.abs(x_new - x) < epsilon or count > 100:\n",
    "            break\n",
    "        print(f\"Epoch {count+1}: {x_new, x}\")\n",
    "        x = x_new\n",
    "        count += 1\n",
    "    return x_new\n",
    "\n",
    "res = Picard_new(0.24, 0.5, 10e-8)\n",
    "res"
   ],
   "metadata": {
    "collapsed": false,
    "ExecuteTime": {
     "end_time": "2023-10-17T11:22:24.288101700Z",
     "start_time": "2023-10-17T11:22:24.282542700Z"
    }
   }
  },
  {
   "cell_type": "markdown",
   "source": [
    "**Aitken迭代法:**\n",
    "\n",
    "​\t上述迭代格式可加快 Picard迭代法的收敛速度，但该方法的缺陷是需要确定参数 $l$， 而这对于某些方程而言是十分困难的.为克服该困难,我们引入如下 Aitken (艾特肯）加速迭代法.记\n",
    "\n",
    "$$\n",
    "\\begin{aligned}\\overline{x}_{k+1}=\\varphi(x_{k}),\\quad\\overline{\\overline{x}}_{k+1}=\\varphi(\\overline{x}_{k+1}),\\end{aligned}\n",
    "$$\n",
    "\n",
    "则由 Taylor展开定理近似地有\n",
    "\n",
    "$$\n",
    "x^{*}-\\bar{x}_{k+1}\\approx l(x^{*}-x_{k}),\\quad x^{*}-\\overline{\\overline{x}}_{k+1}\\approx l(x^{*}-\\overline{x}_{k+1}).\n",
    "$$\n",
    "\n",
    "由上两式消去未知参数$l$得\n",
    "\n",
    "$$\n",
    "\\begin{aligned}x^*\\approx\\overline{\\overline{x}}_{k+1}-\\frac{(\\overline{\\overline{x}}_{k+1}-\\overline{x}_{k+1})^2}{\\overline{\\overline{x}}_{k+1}-2\\overline{x}_{k+1}+x_k}.\\end{aligned}\n",
    "$$\n",
    "\n",
    "故得Aitken 加速迭代格式\n",
    "\n",
    "$$\n",
    "\\begin{aligned}x_{k+1}=\\overline{\\overline{x}}_{k+1}-\\frac{(\\overline{\\overline{x}}_{k+1}-\\overline{x}_{k+1})^2}{\\overline{\\overline{x}}_{k+1}-2\\overline{x}_{k+1}+x_k}.\\end{aligned}\n",
    "$$\n",
    "\n",
    "Aitken迭代无需计算导数值，这是其最大的优势之一，下面给出Aitken迭代法的Python实现："
   ],
   "metadata": {
    "collapsed": false
   }
  },
  {
   "cell_type": "code",
   "execution_count": 39,
   "metadata": {
    "collapsed": true,
    "ExecuteTime": {
     "end_time": "2023-10-17T11:24:28.046351200Z",
     "start_time": "2023-10-17T11:24:28.035114100Z"
    }
   },
   "outputs": [
    {
     "name": "stdout",
     "output_type": "stream",
     "text": [
      "Epoch 1: (3.875, 61.060546875, 1.5)\n",
      "Epoch 2: (3.12400578317771, 32.612465728108404, 1.3970886932972206)\n",
      "Epoch 3: (2.4346830558289363, 15.866708964702676, 1.2896651739743845)\n",
      "Epoch 4: (1.8383965988421707, 7.0516293611820595, 1.1829617399989463)\n",
      "Epoch 5: (1.3791320274008025, 3.0022482446715903, 1.0887068249538423)\n",
      "Epoch 6: (1.1036193207997305, 1.447800731008053, 1.0254162367543656)\n",
      "Epoch 7: (1.0097093292285497, 1.0391210454452988, 1.0024229258239874)\n",
      "Epoch 8: (1.0000933457969126, 1.000373409328777, 1.0000233360407969)\n",
      "1.0\n"
     ]
    }
   ],
   "source": [
    "def g(x):\n",
    "    return x**3 - 1\n",
    "\n",
    "def Aitken(x, epsilon):\n",
    "    b = 0.0\n",
    "    a = 0.0\n",
    "    i = 0\n",
    "    while(True):\n",
    "        a = g(x) + x\n",
    "        b = g(a) + a\n",
    "        x_new = b - (b - a)**2/(b - 2*a + x)\n",
    "        if np.abs(x_new - x) < epsilon or i > 100:\n",
    "            break\n",
    "        print(f'Epoch {i+1}: {a, b, x}')\n",
    "        x = x_new\n",
    "        i += 1\n",
    "    return x_new\n",
    "\n",
    "res = Aitken(1.5, 10e-8)\n",
    "res"
   ]
  },
  {
   "cell_type": "markdown",
   "source": [
    "### Newton迭代法（重要）\n",
    "\n",
    "​\tNewton 迭代法是一种求解非线性方程的高效方法，其通过在隔离区间 $[a,b]$ 上不断作曲线 $y=f(x)$ 的切线而获得解的逼近序列.构造该方法的具体步骤如下：在方程$f(x)=0$的解的隔离区间 $[a,b]$ 上选取适当迭代初值$x_0$，过曲线 $y=f(x)$ 的点\n",
    "$(x_0,f(x_0))$引切线\n",
    "$$\n",
    "\\begin{aligned}l_1:\\quad&y=f(x_0)+f'(x_0)(x-x_0),\\end{aligned}\n",
    "$$\n",
    "\n",
    "其与$x$轴相交于点\n",
    "\n",
    "$$\n",
    "x_1=x_0-\\frac{f(x_0)}{f'(x_0)}\n",
    "$$\n",
    "\n",
    "进一步,过曲线 $y=f(x)$ 的点 $(x_1,f(x_1))$ 引切线\n",
    "\n",
    "$$\n",
    "l_2:\\quad y=f(x_1)+f'(x_1)(x-x_1)\n",
    "$$\n",
    "\n",
    "其与$x$轴相交于点\n",
    "\n",
    "$$\n",
    "x_2=x_1-\\frac{f(x_1)}{f'(x_1)}\n",
    "$$\n",
    "\n",
    "如此循环往复，可得一列逼近方程$y=f(x)$ 精确解$x^*$的点\n",
    "$x_0,x_1,\\ldots,x_k,\\ldots$，其一般表达式为\n",
    "$$\n",
    "\\begin{aligned}x_k&=x_{k-1}-\\frac{f(x_{k-1})}{f'(x_{k-1})},\\quad k=1,2,\\cdots.\\end{aligned}\n",
    "$$\n",
    "\n",
    "该公式所表述的求解方法称为 **Newton 迭代法**或**切线法**\n",
    "\n",
    "$Example：$应用 Newton 迭代法求方程 $x^3-x-1=0$ 在 $x=1$附近的数值解$x_k$，并使其满足 $|x_k-x_{k-1}|<10^{-8}.$\n",
    "\n",
    "代码实现如下:"
   ],
   "metadata": {
    "collapsed": false
   }
  },
  {
   "cell_type": "code",
   "execution_count": null,
   "outputs": [],
   "source": [
    "def j_prime(x):\n",
    "    return 3*(x**2) - 1\n",
    "\n",
    "def j(x):\n",
    "    return x**3 -1 - x\n",
    "\n",
    "\n",
    "a=1.3\n",
    "for _ in range(10):\n",
    "    print(a)\n",
    "    a = a - j(a)/j_prime(a)"
   ],
   "metadata": {
    "collapsed": false
   }
  },
  {
   "cell_type": "markdown",
   "source": [],
   "metadata": {
    "collapsed": false
   }
  },
  {
   "cell_type": "code",
   "execution_count": null,
   "outputs": [],
   "source": [
    "import numpy as np\n",
    "def Cholesky_plus(matrix):\n",
    "    w = matrix.shape[0]\n",
    "    L = np.zeros((w,w))\n",
    "    for i in range(w):\n",
    "        L[i,i] = 1\n",
    "    D = np.zeros((w,w))\n",
    "    for i in range(w):\n",
    "        D[i,i] = matrix[i,i] - np.dot(np.dot(L[i,:i],D[:i,:i]),L[i,:i].T)\n",
    "        for j in range(i+1,w):\n",
    "            L[j,i] = (matrix[j,i] - np.dot(np.dot(L[j,:i],D[:i,:i]),L[i,:i].T))/D[i,i]\n",
    "    return L,D\n",
    "def backward_substitution(L, D, b):\n",
    "    y = np.dot(np.linalg.inv(L), b)\n",
    "    x = np.dot(np.linalg.inv(np.dot(D, L.T)), y)\n",
    "    return x\n",
    "A = np.array([[5, -4, 1, 0], [-4, 6, -4, 1], [1, -4, 6, -4],[0, 1, -4, 5]])\n",
    "b = np.array([2, -1, -1, 2])\n",
    "L, D = Cholesky_plus(A)\n",
    "x = backward_substitution(L, D, b)\n",
    "print(\"Cholesky分解的下三角矩阵L:\")\n",
    "print(L)\n",
    "print(\"对角矩阵D:\")\n",
    "print(D)\n",
    "print(\"线性方程组的解x:\")\n",
    "print(x)"
   ],
   "metadata": {
    "collapsed": false
   }
  },
  {
   "cell_type": "markdown",
   "source": [],
   "metadata": {
    "collapsed": false
   }
  },
  {
   "cell_type": "code",
   "execution_count": null,
   "outputs": [],
   "source": [
    "import numpy as np\n",
    "def tridiagonal_solver(a, b, c, f):\n",
    "    n = a.shape[0]\n",
    "    y = np.zeros(n)\n",
    "    B = np.zeros(n)\n",
    "    x = np.zeros(n)\n",
    "    y[0] = f[0] / b[0]\n",
    "    d = b[0]\n",
    "    for i in range(1, n):\n",
    "        B[i - 1] = c[i - 1] / d\n",
    "        d = b[i] - a[i] * B[i - 1]\n",
    "        y[i] = (f[i] - a[i] * y[i - 1]) / d\n",
    "    x[n-1] = y[n-1]\n",
    "\n",
    "    for i in range(n-2, -1, -1):\n",
    "        x[i] = y[i] - B[i] * x[i + 1]\n",
    "    return x\n",
    "\n",
    "a = np.array([0, -1, -1, -1, -1])  # 下对角线元素\n",
    "b = np.array([2, 2, 2, 2, 2])  # 主对角线元素\n",
    "c = np.array([-1, -1, -1, -1, 0])  # 上对角线元素\n",
    "f = np.array([1, 0, 0, 0, 0])  # 右侧常数项\n",
    "x = tridiagonal_solver(a, b, c, f)\n",
    "print(\"线性方程组的解x:\")\n",
    "print(x)"
   ],
   "metadata": {
    "collapsed": false
   }
  },
  {
   "cell_type": "markdown",
   "source": [],
   "metadata": {
    "collapsed": false
   }
  },
  {
   "cell_type": "code",
   "execution_count": null,
   "outputs": [],
   "source": [
    "from tqdm import tqdm\n",
    "import numpy as np\n",
    "x = np.ones(5) \n",
    "x_new = np.zeros(5)\n",
    "b = np.array([55, 66, 63, 36, -25])\n",
    "A = np.array([[1, 2, 3, 4, 5 ], [-2, 3, 4, 5, 6], [-3, -4, 5, 6, 7], [-4, -5, -6, 7, 8], [-5, -6, -7, -8, 9]])\n",
    "num_iter = 100\n",
    "epsilon = 10e-5 \n",
    "diff = np.zeros(5)\n",
    "\n",
    "for i in tqdm(range(num_iter)):\n",
    "    for j in range(5):\n",
    "        x_new[j] = (b[j] - np.dot(A[j,:], x) + A[j,j]*x[j])/A[j,j]\n",
    "        diff = np.abs(x_new - x)\n",
    "    if np.max(diff) < epsilon:\n",
    "        print(f\"Converged after {i+1} iterations: {x}\")\n",
    "        break\n",
    "    x = x_new.copy()\n",
    "    print(x) # 输出变量x的值作为方程Ax=b的解"
   ],
   "metadata": {
    "collapsed": false
   }
  },
  {
   "cell_type": "markdown",
   "source": [],
   "metadata": {
    "collapsed": false
   }
  },
  {
   "cell_type": "code",
   "execution_count": null,
   "outputs": [],
   "source": [
    "import numpy as np\n",
    "x = np.array([1.5, 2.1, 3, 4, 5]) \n",
    "x_new = np.zeros(5) \n",
    "b = np.array([55, 66, 63, 36, -25])\n",
    "A = np.array([[1, 2, 3, 4, 5 ], [-2, 3, 4, 5, 6], [-3, -4, 5, 6, 7], [-4, -5, -6, 7, 8], [-5, -6, -7, -8, 9]])\n",
    "num_iter = 100\n",
    "max_diff = 1e-5 \n",
    "diff = np.zeros(5)  \n",
    "\n",
    "for i in tqdm(range(num_iter)):\n",
    "    for j in range(5):\n",
    "        x_old = x.copy()\n",
    "        x[j] = (b[j] - np.dot(A[j,:j], x[:j]) - np.dot(A[j,(j+1):], x[(j+1):]))/A[j,j]\n",
    "        diff[j] = np.abs(x[j] - x_old[j])\n",
    "    if np.max(diff) < max_diff:\n",
    "        break\n",
    "    print(x)"
   ],
   "metadata": {
    "collapsed": false
   }
  },
  {
   "cell_type": "markdown",
   "source": [],
   "metadata": {
    "collapsed": false
   }
  },
  {
   "cell_type": "code",
   "execution_count": null,
   "outputs": [],
   "source": [
    "from tqdm import tqdm\n",
    "import numpy as np\n",
    "x = np.ones(5)\n",
    "x_new = np.zeros(5) \n",
    "b = np.array([55, 66, 63, 36, -25]) \n",
    "A = np.array([[1, 2, 3, 4, 5 ], [-2, 3, 4, 5, 6], [-3, -4, 5, 6, 7], [-4, -5, -6, 7, 8], [-5, -6, -7, -8, 9]]) \n",
    "num_iter = 1000\n",
    "epsilon = 10e-5 \n",
    "diff = np.zeros(5) \n",
    "omega = 0.\n",
    "\n",
    "for i in tqdm(range(num_iter)):\n",
    "    for j in range(5):\n",
    "        x_new[j] = x[j] + omega * (b[j] - np.dot(A[j,:], x))/A[j,j]\n",
    "        diff = np.abs(x_new - x)\n",
    "    if np.max(diff) < epsilon:\n",
    "        print(f\"Converged after {i+1} iterations: {x}\")\n",
    "        break\n",
    "    x = x_new.copy()\n",
    "    print(x) "
   ],
   "metadata": {
    "collapsed": false
   }
  },
  {
   "cell_type": "markdown",
   "source": [],
   "metadata": {
    "collapsed": false
   }
  },
  {
   "cell_type": "markdown",
   "source": [],
   "metadata": {
    "collapsed": false
   }
  },
  {
   "cell_type": "code",
   "execution_count": null,
   "outputs": [],
   "source": [
    "import numpy as np\n",
    "x = np.zeros(5) \n",
    "x_new = np.zeros(5)\n",
    "b = np.array([55, 66, 63, 36, -25])\n",
    "A = np.array([[1, 2, 3, 4, 5 ], [-2, 3, 4, 5, 6], [-3, -4, 5, 6, 7], [-4, -5, -6, 7, 8], [-5, -6, -7, -8, 9]])\n",
    "num_iter = 10000\n",
    "max_diff = 1e-5  \n",
    "diff = np.zeros(5)  \n",
    "omega = 0.333\n",
    "\n",
    "for i in tqdm(range(num_iter)):\n",
    "    for j in range(5):\n",
    "        x_old = x.copy()\n",
    "        x[j] = x[j] + omega * (b[j] - np.dot(A[j,:j], x[:j]) - np.dot(A[j,j:], x[j:]))/A[j,j]\n",
    "        diff[j] = np.abs(x[j] - x_old[j])\n",
    "    if np.max(diff) < max_diff:\n",
    "        print(f\"Converged after {i+1} iterations: {x}\")\n",
    "        break\n",
    "    print(x) "
   ],
   "metadata": {
    "collapsed": false
   }
  },
  {
   "cell_type": "markdown",
   "source": [],
   "metadata": {
    "collapsed": false
   }
  },
  {
   "cell_type": "code",
   "execution_count": null,
   "outputs": [],
   "source": [
    "def Lagrange(arr_x, arr_y, _x):\n",
    "    l = [0 for j in range(len(arr_x))]\n",
    "    result = 0\n",
    "    for i in range(0, len(arr_x)):\n",
    "        denominator = 1\n",
    "        molecular = 1\n",
    "        for j in range(0, len(arr_x)):\n",
    "            if i != j:\n",
    "                denominator = denominator * (arr_x[i] - arr_x[j])\n",
    "                molecular = molecular * (_x - arr_x[j])\n",
    "        l[i] = molecular / denominator\n",
    "        result = result + l[i] * arr_y[i]\n",
    "    return result\n",
    "def function(x):\n",
    "    return x * np.exp(x) * (1 + np.exp(x))\n",
    "x_arr = np.array([1.00, 1.02, 1.04, 1.06])\n",
    "y_arr=[]\n",
    "for i in range(len(x_arr)):\n",
    "    y_arr.append(function(x_arr[i]))\n",
    "y = Lagrange(x_arr, y_arr, 1.03)\n",
    "y, function(1.03), y - function(1.03)"
   ],
   "metadata": {
    "collapsed": false,
    "is_executing": true
   }
  },
  {
   "cell_type": "markdown",
   "source": [],
   "metadata": {
    "collapsed": false
   }
  },
  {
   "cell_type": "code",
   "execution_count": 6,
   "outputs": [
    {
     "name": "stdout",
     "output_type": "stream",
     "text": [
      "[0.41075233 0.5781516  0.7585837  0.95611596 1.17520119]\n",
      "[0.1673992779406388, 0.18043209809607907, 0.1975322581490987, 0.2190852336551693]\n",
      "[0.013032820155440272, 0.01710016005301962, 0.021552975506070604]\n",
      "[0.004067339897579347, 0.0044528154530509845]\n",
      "[0.00038547555547163714]\n"
     ]
    },
    {
     "data": {
      "text/plain": "-3.523342521072337e-07"
     },
     "execution_count": 6,
     "metadata": {},
     "output_type": "execute_result"
    }
   ],
   "source": [
    "import numpy as np\n",
    "def f(x):\n",
    "    return np.sinh(x)\n",
    "\n",
    "def cal_table(x):\n",
    "    f_num = f(x)\n",
    "    list = f_num\n",
    "    list_new = []\n",
    "    print(list)\n",
    "    for i in range(len(f_num) - 1):\n",
    "        for i in range(1, len(list)):\n",
    "            list_new.append(list[i]-list[i-1])\n",
    "        print(list_new)\n",
    "        list =list_new\n",
    "        list_new =[]\n",
    "def same_dis_newton():\n",
    "    return 1\n",
    "\n",
    "x = [0.4, 0.55, 0.7, 0.85, 1]\n",
    "cal_table(x)\n",
    "np.sinh(0.596)-0.6319171542"
   ],
   "metadata": {
    "collapsed": false,
    "ExecuteTime": {
     "end_time": "2023-10-23T01:38:26.821077200Z",
     "start_time": "2023-10-23T01:38:26.813482200Z"
    }
   }
  },
  {
   "cell_type": "markdown",
   "source": [],
   "metadata": {
    "collapsed": false
   }
  }
 ],
 "metadata": {
  "kernelspec": {
   "display_name": "Python 3",
   "language": "python",
   "name": "python3"
  },
  "language_info": {
   "codemirror_mode": {
    "name": "ipython",
    "version": 2
   },
   "file_extension": ".py",
   "mimetype": "text/x-python",
   "name": "python",
   "nbconvert_exporter": "python",
   "pygments_lexer": "ipython2",
   "version": "2.7.6"
  }
 },
 "nbformat": 4,
 "nbformat_minor": 0
}
