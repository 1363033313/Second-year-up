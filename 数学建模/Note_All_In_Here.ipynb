{
 "cells": [
  {
   "cell_type": "markdown",
   "source": [
    "# 数学建模笔记\n",
    "\n",
    "这个数学建模笔记是基于华中科技大学马世拓老师的课程（[数学建模导论：基于Python语言]( https://b23.tv/nSu6Jah)）进行记录的，希望大家能给马老师多多三连支持一下\n",
    "\n",
    "## 线性规划模型\n",
    "### 1.1 线性规划模型\n",
    "线代的基础知识，这个没什么好说的\n",
    "线性规划的标准形式：\n",
    "$$\n",
    "    \\min_X C^TX\\quad s.t.\\begin{cases} Ax\\leq b\\\\ AeqX=beq\\\\ lb \\leq X\\leq ub\\end{cases}\n",
    "$$\n",
    "解决方法：\n",
    "- 单纯形法\n",
    "固定变量，不断变换基向量求方程组的解带入，看是不是最优解，如果不是就继续更行迭代现阶段的解\n",
    "- 蒙特卡洛法\n",
    "在可行域范围内生成大批量随机数据点，观察这些数据点在什么位置取得近似最优，更适用于解决非线性问题\n",
    "- 引入松弛变量：不等式约束变为等式约束，解决绝对值问题，不等式过多甚至到了非线性\n",
    "$$\n",
    "        \\max z=x_1+2x_2 \\quad s.t.\\begin{cases}-3x_1+2x_2\\leq3\\\\ x_1\\leq2\\\\ x_1-x_2\\leq1,\\\\ x_1x_2\\geq0\\end{cases}\\Rightarrow\\begin{cases}x_3=3x_1-2x_2+3\\\\ x_4=-x_1-x_2+2\\leq2\\\\ x_5=1-x_1+x_2\\leq1,\\\\ x_1,x_2,x_3,x_4,x_5\\geq0\\end{cases}\n",
    "$$\n",
    "\n",
    "例题：$\\max z=2x_1+3x_2-5x_3$\n",
    "$$\n",
    "s.t.\\begin{cases}x_1+x_2+x_3=7\\\\ 2x_1-5x_2+x_3 \\geq10\\\\ x_1+3x_2+x_3\\leq 12\\\\ x_1,x_2,x_3\\geq 0\\end{cases}\n",
    "$$\n"
   ],
   "metadata": {
    "collapsed": false
   },
   "id": "348c8107336da39c"
  },
  {
   "cell_type": "code",
   "execution_count": 7,
   "id": "initial_id",
   "metadata": {
    "collapsed": true,
    "ExecuteTime": {
     "end_time": "2023-11-14T03:09:21.395696800Z",
     "start_time": "2023-11-14T03:09:21.391188700Z"
    }
   },
   "outputs": [
    {
     "data": {
      "text/plain": "        message: Optimization terminated successfully. (HiGHS Status 7: Optimal)\n        success: True\n         status: 0\n            fun: -14.571428571428571\n              x: [ 6.429e+00  5.714e-01  0.000e+00]\n            nit: 3\n          lower:  residual: [ 6.429e+00  5.714e-01  0.000e+00]\n                 marginals: [ 0.000e+00  0.000e+00  7.143e+00]\n          upper:  residual: [       inf        inf        inf]\n                 marginals: [ 0.000e+00  0.000e+00  0.000e+00]\n          eqlin:  residual: [ 0.000e+00]\n                 marginals: [-2.286e+00]\n        ineqlin:  residual: [ 0.000e+00  3.857e+00]\n                 marginals: [-1.429e-01 -0.000e+00]\n mip_node_count: 0\n mip_dual_bound: 0.0\n        mip_gap: 0.0"
     },
     "execution_count": 7,
     "metadata": {},
     "output_type": "execute_result"
    }
   ],
   "source": [
    "from scipy import optimize\n",
    "import numpy as np\n",
    "\n",
    "c = np.array([2,3,-5])\n",
    "A = np.array([[-2,5,-1],[1,3,1]])\n",
    "b = np.array([-10,12])\n",
    "Aeq = np.array([[1,1,1]])\n",
    "beq = np.array([7])\n",
    "x1, x2, x3 = (0,None), (0,None), (0,None)\n",
    "\"\"\"\n",
    "    Linear programming: minimize a linear objective function subject to linear\n",
    "    equality and inequality constraints.\n",
    "\n",
    "    Linear programming solves problems of the following form:\n",
    "\n",
    "    .. math::\n",
    "\n",
    "        \\min_x \\ & c^T x \\\\\n",
    "        \\mbox{such that} \\ & A_{ub} x \\leq b_{ub},\\\\\n",
    "        & A_{eq} x = b_{eq},\\\\\n",
    "        & l \\leq x \\leq u ,\n",
    "\n",
    "    where :math:`x` is a vector of decision variables; :math:`c`,\n",
    "    :math:`b_{ub}`, :math:`b_{eq}`, :math:`l`, and :math:`u` are vectors; and\n",
    "    :math:`A_{ub}` and :math:`A_{eq}` are matrices.\n",
    "\n",
    "    Alternatively, that's:\n",
    "\n",
    "        - minimize ::\n",
    "\n",
    "            c @ x\n",
    "\n",
    "        - such that ::\n",
    "\n",
    "            A_ub @ x <= b_ub\n",
    "            A_eq @ x == b_eq\n",
    "            lb <= x <= ub\n",
    "\n",
    "    Note that by default ``lb = 0`` and ``ub = None``. Other bounds can be\n",
    "    specified with ``bounds``.\n",
    "\n",
    "    Parameters\n",
    "    ----------\n",
    "    c : 1-D array\n",
    "        The coefficients of the linear objective function to be minimized.\n",
    "    A_ub : 2-D array, optional\n",
    "        The inequality constraint matrix. Each row of ``A_ub`` specifies the\n",
    "        coefficients of a linear inequality constraint on ``x``.\n",
    "    b_ub : 1-D array, optional\n",
    "        The inequality constraint vector. Each element represents an\n",
    "        upper bound on the corresponding value of ``A_ub @ x``.\n",
    "    A_eq : 2-D array, optional\n",
    "        The equality constraint matrix. Each row of ``A_eq`` specifies the\n",
    "        coefficients of a linear equality constraint on ``x``.\n",
    "    b_eq : 1-D array, optional\n",
    "        The equality constraint vector. Each element of ``A_eq @ x`` must equal\n",
    "        the corresponding element of ``b_eq``.\n",
    "    bounds : sequence, optional\n",
    "        A sequence of ``(min, max)`` pairs for each element in ``x``, defining\n",
    "        the minimum and maximum values of that decision variable.\n",
    "        If a single tuple ``(min, max)`` is provided, then ``min`` and ``max``\n",
    "        will serve as bounds for all decision variables.\n",
    "        Use ``None`` to indicate that there is no bound. For instance, the\n",
    "        default bound ``(0, None)`` means that all decision variables are\n",
    "        non-negative, and the pair ``(None, None)`` means no bounds at all,\n",
    "        i.e. all variables are allowed to be any real.\n",
    "    method : str, optional\n",
    "        The algorithm used to solve the standard form problem.\n",
    "        :ref:`'highs' <optimize.linprog-highs>` (default),\n",
    "        :ref:`'highs-ds' <optimize.linprog-highs-ds>`,\n",
    "        :ref:`'highs-ipm' <optimize.linprog-highs-ipm>`,\n",
    "        :ref:`'interior-point' <optimize.linprog-interior-point>` (legacy),\n",
    "        :ref:`'revised simplex' <optimize.linprog-revised_simplex>` (legacy),\n",
    "        and\n",
    "        :ref:`'simplex' <optimize.linprog-simplex>` (legacy) are supported.\n",
    "        The legacy methods are deprecated and will be removed in SciPy 1.11.0.\n",
    "\"\"\"\n",
    "optimize.linprog(-c,A,b,Aeq,beq,method='highs',bounds=(x1,x2,x3))"
   ]
  },
  {
   "cell_type": "markdown",
   "source": [
    "### 1.2 非线性规划模型\n",
    "目标函数非线性，约束条件非线性，如：\n",
    "$$\n",
    "    \\min f=2x_1^2+3x_1x_3-x_2^2\\quad s.t.\\begin{cases}x_1^2-2x_2+3x_3=4\\\\ x_1+x_2-x_3\\leq6\\\\ 2x_1-x_2+x_3\\leq15 \\\\ x_1,x_2,x_3\\geq0\\end{cases}\n",
    "$$\n",
    "补充知识：多元函数相关知识，不多赘述\n",
    "\n",
    "KKT条件：详情可以参考Blog:<a href=\"https://zhuanlan.zhihu.com/p/38163970\">Karush-Kuhn-Tucker (KKT)条件</a>\n",
    "将不等式约束包含进去\n",
    "\n",
    "例题：三台火电机组的运行成本(单位：t/h)与出力限制(单位：MW)分别如下：\n",
    "$$\\begin{aligned}F_{\\mathrm{G1}}&=4+0.3P_{\\mathrm{Gl}}+0.0007P_{\\mathrm{Gl}}^2,100\\leqslant P_{\\mathrm{Gl}}\\leqslant200\\\\ F_{\\mathrm{G2}}&=3+0.32P_{\\mathrm{G2}}+0.0004P_{\\mathrm{G2}}^2,120\\leqslant P_{\\mathrm{G2}}\\leqslant250\\\\ F_{\\mathrm{G3}}&=3.5+0.3P_{\\mathrm{G3}}+0.00045P_{\\mathrm{G3}}^2,150\\leqslant P_{\\mathrm{G3}}\\leqslant300\\end{aligned}\n",
    "$$\n",
    "当负荷为 700MW 时,求经济调度的结果。"
   ],
   "metadata": {
    "collapsed": false
   },
   "id": "a4cbd6379956fc18"
  },
  {
   "cell_type": "code",
   "execution_count": 1,
   "outputs": [
    {
     "name": "stderr",
     "output_type": "stream",
     "text": [
      "D:\\Anaconda\\envs\\dl\\Lib\\site-packages\\scipy\\optimize\\_minimize.py:576: RuntimeWarning: Method L-BFGS-B cannot handle constraints.\n",
      "  warn('Method %s cannot handle constraints.' % method,\n"
     ]
    },
    {
     "data": {
      "text/plain": "  message: CONVERGENCE: NORM_OF_PROJECTED_GRADIENT_<=_PGTOL\n  success: True\n   status: 0\n      fun: 146.785\n        x: [ 1.000e+02  1.200e+02  1.500e+02]\n      nit: 0\n      jac: [ 4.400e-01  4.160e-01  4.350e-01]\n     nfev: 4\n     njev: 1\n hess_inv: <3x3 LbfgsInvHessProduct with dtype=float64>"
     },
     "execution_count": 1,
     "metadata": {},
     "output_type": "execute_result"
    }
   ],
   "source": [
    "from scipy import optimize\n",
    "import numpy as np\n",
    "\n",
    "def f(x):\n",
    "    return 10.5+0.3*x[0]+0.32*x[1]+0.3*x[2]+0.0007*x[0]**2+0.0004*x[1]**2+0.00045*x[2]**2\n",
    "constraint = ({'type':'eq', 'fun':lambda x: x[0]+x[1]+x[2]-700},{'type':'ineq', 'fun':lambda x: x[0]**2+x[1]**2+x[2]**2})\n",
    "\"\"\"\n",
    "    fun->迭代函数\n",
    "    method->迭代方法\n",
    "    x0->初值\n",
    "    bounds->自变量范围\n",
    "    constraints->限制条件,格式({'type':'eq' or 'ineq','fun': lambda x:...},{})\n",
    "    不等式对应lambda表达式返回值大于0\n",
    "\"\"\"\n",
    "optimize.minimize(fun=f, method='L-BFGS-B',x0=np.array([100,120,150]),bounds=((100,200), (120,250), (150, 300)), constraints=constraint)"
   ],
   "metadata": {
    "collapsed": false,
    "ExecuteTime": {
     "end_time": "2023-11-14T12:05:26.241143500Z",
     "start_time": "2023-11-14T12:05:26.081331Z"
    }
   },
   "id": "86edf49b02a7d923"
  },
  {
   "cell_type": "code",
   "execution_count": 16,
   "outputs": [
    {
     "data": {
      "text/plain": "(array([170.67217172, 233.7993253 , 295.52850297]), array([306.73282268]))"
     },
     "execution_count": 16,
     "metadata": {},
     "output_type": "execute_result"
    }
   ],
   "source": [
    "\"\"\"遗传算法\"\"\"\n",
    "from sko.GA import GA\n",
    "def f(x):\n",
    "    return 10.5+0.3*x[0]+0.32*x[1]+0.3*x[2]+0.0007*x[0]**2+0.0004*x[1]**2+0.00045*x[2]**2\n",
    "\n",
    "constraint = [lambda x: x[0]+x[1]+x[2]-700]\n",
    "\"\"\"\n",
    "func : function\n",
    "        The func you want to do optimal\n",
    "    n_dim : int\n",
    "        number of variables of func\n",
    "    lb : array_like\n",
    "        The lower bound of every variables of func\n",
    "    ub : array_like\n",
    "        The upper bound of every vaiiables of func\n",
    "    constraint_eq : list\n",
    "        equal constraint\n",
    "    constraint_ueq : list\n",
    "        unequal constraint\n",
    "    precision : array_like\n",
    "        The precision of every vaiiables of func\n",
    "    size_pop : int\n",
    "        Size of population\n",
    "    max_iter : int\n",
    "        Max of iter\n",
    "    prob_mut : float between 0 and 1\n",
    "        Probability of mutation\n",
    "        \"\"\"\n",
    "ga = GA(func=f, n_dim=3,size_pop=500,max_iter=500,constraint_eq=constraint,lb=[100,120,150],ub=[200,250,300])\n",
    "ga.run()"
   ],
   "metadata": {
    "collapsed": false,
    "ExecuteTime": {
     "end_time": "2023-11-14T12:18:21.291071600Z",
     "start_time": "2023-11-14T12:17:56.216099800Z"
    }
   },
   "id": "ad8ff007a7302a43"
  },
  {
   "cell_type": "markdown",
   "source": [
    "#### 案例1 \n",
    "某公司有6个建筑工地要开工，每个工地的位置(用平面坐标系a,b表示，距离单位：千米)及水泥日用 量d(吨)由下表给出。规划设立两个料场位于A，B,日储量各为20吨。假设从料场到工地之间均有 直线道路相连，试确定料场的位置，并制定每天的供应计划，即从A，B两料场分别向各工地运送多 少吨水泥，使总的吨千米数最小。\n",
    "![](./image/1.2.1.png)\n",
    "#### 案例2\n",
    "某单位领导在考虑本单位职工的升级调资方案时，要求相关部门遵守以下的规定： \n",
    " (1) 年工资总额不超过1500000元；\n",
    " (2) 每级的人数不超过定编规定的人数；\n",
    " (3)II、III级的升级面尽可能达到现有人数的20%,\n",
    " (4) III级不足编制的人数可录用新职工，又I级的职工中有10%的人要退休.相关资料汇总于表中，试为单位领导拟定一个满足要求的调资方案。\n",
    "![](./image/1.2.2.png)"
   ],
   "metadata": {
    "collapsed": false
   },
   "id": "a702465c4285c64b"
  },
  {
   "cell_type": "code",
   "execution_count": 16,
   "outputs": [],
   "source": [
    "# 案例1"
   ],
   "metadata": {
    "collapsed": false,
    "ExecuteTime": {
     "end_time": "2023-11-14T12:36:58.588759800Z",
     "start_time": "2023-11-14T12:36:58.586253Z"
    }
   },
   "id": "1407b4f77ab4679d"
  },
  {
   "cell_type": "code",
   "execution_count": 17,
   "outputs": [],
   "source": [
    "# 案例2"
   ],
   "metadata": {
    "collapsed": false,
    "ExecuteTime": {
     "end_time": "2023-11-14T12:37:15.988053100Z",
     "start_time": "2023-11-14T12:37:15.984540300Z"
    }
   },
   "id": "1c323183c0decd6a"
  },
  {
   "cell_type": "markdown",
   "source": [
    "### 1.3整数规划模型\n",
    "纯整数规划，混合整数规划，0-1规划\n",
    "#### 指派问题\n",
    "假设n个人恰好做n项工作，第i个人做第j项工作的效率为$c_\\mathrm{ij}$ 20, 应指派哪个人完成哪项任务，使完成效率最高。\n",
    "决策变量： $x_{ij}=\\begin{cases}1, 指派第$i$人完成第$j$项任务0\\\\0不指派第$i$人完成第$j$项任务\\end{cases}$\n",
    "目标函数:$\\min z = C\\textcircled{\\cdot}X$\n",
    "约束条件：$\\begin{cases}\\sum_ix_{ij}=1,j=1,2,\\ldots,n\\\\ \\sum_jx_{ij}=1,i=1,2,\\ldots,n\\\\ x_{ij}=1\\text{或}0\\end{cases}$\n",
    "解决方法\n",
    "- 分支定界法\n",
    "- 匈牙利法\n",
    "\n",
    "例题；为了便于对模型进行求解与分析，假设有 4 件事 4 个人去做，各变里对应的数据假设如表1。\n",
    "![](./image/1.3.1.png)"
   ],
   "metadata": {
    "collapsed": false
   },
   "id": "573ea2ca6c232c92"
  },
  {
   "cell_type": "code",
   "execution_count": 23,
   "outputs": [
    {
     "data": {
      "text/plain": "101"
     },
     "execution_count": 23,
     "metadata": {},
     "output_type": "execute_result"
    }
   ],
   "source": [
    "import scipy\n",
    "from scipy.optimize import linear_sum_assignment\n",
    "import numpy as np\n",
    "cost = np.array([[25,29,31,42], [39,38,26,20], [34,27,28,40], [24,42,36,23]])\n",
    "\"\"\"\n",
    " Parameters\n",
    "    ----------\n",
    "    cost_matrix : array\n",
    "        The cost matrix of the bipartite graph.\n",
    "    \n",
    "    maximize : bool (default: False)\n",
    "        Calculates a maximum weight matching if true.\n",
    "    \n",
    "    Returns\n",
    "    -------\n",
    "    row_ind, col_ind : array\n",
    "        An array of row indices and one of corresponding column indices giving\n",
    "        the optimal assignment. The cost of the assignment can be computed\n",
    "        as ``cost_matrix[row_ind, col_ind].sum()``. The row indices will be\n",
    "        sorted; in the case of a square cost matrix they will be equal to\n",
    "        ``numpy.arange(cost_matrix.shape[0])``.\n",
    "\"\"\"\n",
    "cost[linear_sum_assignment(cost)].sum()"
   ],
   "metadata": {
    "collapsed": false,
    "ExecuteTime": {
     "end_time": "2023-11-14T13:38:22.643797700Z",
     "start_time": "2023-11-14T13:38:22.640699800Z"
    }
   },
   "id": "3528071012ba4839"
  },
  {
   "cell_type": "markdown",
   "source": [
    "### 1.4动态规划模型\n",
    "如经典的汉诺塔问题，背包问题"
   ],
   "metadata": {
    "collapsed": false
   },
   "id": "4737185a29349c20"
  },
  {
   "cell_type": "code",
   "execution_count": null,
   "outputs": [],
   "source": [],
   "metadata": {
    "collapsed": false
   },
   "id": "97ddc1cc9d971219"
  },
  {
   "cell_type": "markdown",
   "source": [
    "### 1.5贪心策略"
   ],
   "metadata": {
    "collapsed": false
   },
   "id": "d39b8b5645d3a30b"
  }
 ],
 "metadata": {
  "kernelspec": {
   "display_name": "Python 3",
   "language": "python",
   "name": "python3"
  },
  "language_info": {
   "codemirror_mode": {
    "name": "ipython",
    "version": 2
   },
   "file_extension": ".py",
   "mimetype": "text/x-python",
   "name": "python",
   "nbconvert_exporter": "python",
   "pygments_lexer": "ipython2",
   "version": "2.7.6"
  }
 },
 "nbformat": 4,
 "nbformat_minor": 5
}
