{
 "cells": [
  {
   "cell_type": "markdown",
   "source": [
    "# 数学建模笔记\n",
    "\n",
    "这个数学建模笔记是基于华中科技大学马世拓老师的课程（[数学建模导论：基于Python语言]( https://b23.tv/nSu6Jah)）进行记录的，希望大家能给马老师多多三连支持一下\n",
    "\n",
    "## 线性规划模型\n",
    "### 1.1 线性规划模型\n",
    "线代的基础知识，这个没什么好说的\n",
    "线性规划的标准形式：\n",
    "$$\n",
    "    \\min_X C^TX\\quad s.t.\\begin{cases} Ax\\leq b\\\\ AeqX=beq\\\\ lb \\leq X\\leq ub\\end{cases}\n",
    "$$\n",
    "解决方法：\n",
    "- 单纯形法\n",
    "固定变量，不断变换基向量求方程组的解带入，看是不是最优解，如果不是就继续更行迭代现阶段的解\n",
    "- 蒙特卡洛法\n",
    "在可行域范围内生成大批量随机数据点，观察这些数据点在什么位置取得近似最优，更适用于解决非线性问题\n",
    "- 引入松弛变量：不等式约束变为等式约束，解决绝对值问题，不等式过多甚至到了非线性\n",
    "$$\n",
    "        \\max z=x_1+2x_2 \\quad s.t.\\begin{cases}-3x_1+2x_2\\leq3\\\\ x_1\\leq2\\\\ x_1-x_2\\leq1,\\\\ x_1x_2\\geq0\\end{cases}\\Rightarrow\\begin{cases}x_3=3x_1-2x_2+3\\\\ x_4=-x_1-x_2+2\\leq2\\\\ x_5=1-x_1+x_2\\leq1,\\\\ x_1,x_2,x_3,x_4,x_5\\geq0\\end{cases}\n",
    "$$\n",
    "\n",
    "例题：$\\max z=2x_1+3x_2-5x_3$\n",
    "$$\n",
    "s.t.\\begin{cases}x_1+x_2+x_3=7\\\\ 2x_1-5x_2+x_3 \\geq10\\\\ x_1+3x_2+x_3\\leq 12\\\\ x_1,x_2,x_3\\geq 0\\end{cases}\n",
    "$$\n"
   ],
   "metadata": {
    "collapsed": false
   },
   "id": "348c8107336da39c"
  },
  {
   "cell_type": "code",
   "execution_count": 7,
   "id": "initial_id",
   "metadata": {
    "collapsed": true,
    "ExecuteTime": {
     "end_time": "2023-11-14T03:09:21.395696800Z",
     "start_time": "2023-11-14T03:09:21.391188700Z"
    }
   },
   "outputs": [
    {
     "data": {
      "text/plain": "        message: Optimization terminated successfully. (HiGHS Status 7: Optimal)\n        success: True\n         status: 0\n            fun: -14.571428571428571\n              x: [ 6.429e+00  5.714e-01  0.000e+00]\n            nit: 3\n          lower:  residual: [ 6.429e+00  5.714e-01  0.000e+00]\n                 marginals: [ 0.000e+00  0.000e+00  7.143e+00]\n          upper:  residual: [       inf        inf        inf]\n                 marginals: [ 0.000e+00  0.000e+00  0.000e+00]\n          eqlin:  residual: [ 0.000e+00]\n                 marginals: [-2.286e+00]\n        ineqlin:  residual: [ 0.000e+00  3.857e+00]\n                 marginals: [-1.429e-01 -0.000e+00]\n mip_node_count: 0\n mip_dual_bound: 0.0\n        mip_gap: 0.0"
     },
     "execution_count": 7,
     "metadata": {},
     "output_type": "execute_result"
    }
   ],
   "source": [
    "from scipy import optimize\n",
    "import numpy as np\n",
    "\n",
    "c = np.array([2,3,-5])\n",
    "A = np.array([[-2,5,-1],[1,3,1]])\n",
    "b = np.array([-10,12])\n",
    "Aeq = np.array([[1,1,1]])\n",
    "beq = np.array([7])\n",
    "x1, x2, x3 = (0,None), (0,None), (0,None)\n",
    "\"\"\"\n",
    "    Linear programming: minimize a linear objective function subject to linear\n",
    "    equality and inequality constraints.\n",
    "\n",
    "    Linear programming solves problems of the following form:\n",
    "\n",
    "    .. math::\n",
    "\n",
    "        \\min_x \\ & c^T x \\\\\n",
    "        \\mbox{such that} \\ & A_{ub} x \\leq b_{ub},\\\\\n",
    "        & A_{eq} x = b_{eq},\\\\\n",
    "        & l \\leq x \\leq u ,\n",
    "\n",
    "    where :math:`x` is a vector of decision variables; :math:`c`,\n",
    "    :math:`b_{ub}`, :math:`b_{eq}`, :math:`l`, and :math:`u` are vectors; and\n",
    "    :math:`A_{ub}` and :math:`A_{eq}` are matrices.\n",
    "\n",
    "    Alternatively, that's:\n",
    "\n",
    "        - minimize ::\n",
    "\n",
    "            c @ x\n",
    "\n",
    "        - such that ::\n",
    "\n",
    "            A_ub @ x <= b_ub\n",
    "            A_eq @ x == b_eq\n",
    "            lb <= x <= ub\n",
    "\n",
    "    Note that by default ``lb = 0`` and ``ub = None``. Other bounds can be\n",
    "    specified with ``bounds``.\n",
    "\n",
    "    Parameters\n",
    "    ----------\n",
    "    c : 1-D array\n",
    "        The coefficients of the linear objective function to be minimized.\n",
    "    A_ub : 2-D array, optional\n",
    "        The inequality constraint matrix. Each row of ``A_ub`` specifies the\n",
    "        coefficients of a linear inequality constraint on ``x``.\n",
    "    b_ub : 1-D array, optional\n",
    "        The inequality constraint vector. Each element represents an\n",
    "        upper bound on the corresponding value of ``A_ub @ x``.\n",
    "    A_eq : 2-D array, optional\n",
    "        The equality constraint matrix. Each row of ``A_eq`` specifies the\n",
    "        coefficients of a linear equality constraint on ``x``.\n",
    "    b_eq : 1-D array, optional\n",
    "        The equality constraint vector. Each element of ``A_eq @ x`` must equal\n",
    "        the corresponding element of ``b_eq``.\n",
    "    bounds : sequence, optional\n",
    "        A sequence of ``(min, max)`` pairs for each element in ``x``, defining\n",
    "        the minimum and maximum values of that decision variable.\n",
    "        If a single tuple ``(min, max)`` is provided, then ``min`` and ``max``\n",
    "        will serve as bounds for all decision variables.\n",
    "        Use ``None`` to indicate that there is no bound. For instance, the\n",
    "        default bound ``(0, None)`` means that all decision variables are\n",
    "        non-negative, and the pair ``(None, None)`` means no bounds at all,\n",
    "        i.e. all variables are allowed to be any real.\n",
    "    method : str, optional\n",
    "        The algorithm used to solve the standard form problem.\n",
    "        :ref:`'highs' <optimize.linprog-highs>` (default),\n",
    "        :ref:`'highs-ds' <optimize.linprog-highs-ds>`,\n",
    "        :ref:`'highs-ipm' <optimize.linprog-highs-ipm>`,\n",
    "        :ref:`'interior-point' <optimize.linprog-interior-point>` (legacy),\n",
    "        :ref:`'revised simplex' <optimize.linprog-revised_simplex>` (legacy),\n",
    "        and\n",
    "        :ref:`'simplex' <optimize.linprog-simplex>` (legacy) are supported.\n",
    "        The legacy methods are deprecated and will be removed in SciPy 1.11.0.\n",
    "\"\"\"\n",
    "optimize.linprog(-c,A,b,Aeq,beq,method='highs',bounds=(x1,x2,x3))"
   ]
  },
  {
   "cell_type": "markdown",
   "source": [
    "### 1.3 非线性规划模型\n",
    "目标函数非线性，约束条件非线性，如：\n",
    "$$\n",
    "    \\min f=2x_1^2+3x_1x_3-x_2^2\\quad s.t.\\begin{cases}x_1^2-2x_2+3x_3=4\\\\ x_1+x_2-x_3\\leq6\\\\ 2x_1-x_2+x_3\\leq15 \\\\ x_1,x_2,x_3\\geq0\\end{cases}\n",
    "$$\n",
    "补充知识：多元函数相关知识，不多赘述\n",
    "\n",
    "KKT条件：详情可以参考Blog:<a href=\"https://zhuanlan.zhihu.com/p/38163970\">Karush-Kuhn-Tucker (KKT)条件</a>\n",
    "将不等式约束包含进去\n",
    "\n",
    "例题：三台火电机组的运行成本(单位：t/h)与出力限制(单位：MW)分别如下：\n",
    "$$\\begin{aligned}F_{\\mathrm{G1}}&=4+0.3P_{\\mathrm{Gl}}+0.0007P_{\\mathrm{Gl}}^2,100\\leqslant P_{\\mathrm{Gl}}\\leqslant200\\\\ F_{\\mathrm{G2}}&=3+0.32P_{\\mathrm{G2}}+0.0004P_{\\mathrm{G2}}^2,120\\leqslant P_{\\mathrm{G2}}\\leqslant250\\\\ F_{\\mathrm{G3}}&=3.5+0.3P_{\\mathrm{G3}}+0.00045P_{\\mathrm{G3}}^2,150\\leqslant P_{\\mathrm{G3}}\\leqslant300\\end{aligned}\n",
    "$$\n",
    "当负荷为 700MW 时,求经济调度的结果。"
   ],
   "metadata": {
    "collapsed": false
   },
   "id": "a4cbd6379956fc18"
  },
  {
   "cell_type": "code",
   "execution_count": 16,
   "outputs": [
    {
     "data": {
      "text/plain": "  message: CONVERGENCE: NORM_OF_PROJECTED_GRADIENT_<=_PGTOL\n  success: True\n   status: 0\n      fun: 146.785\n        x: [ 1.000e+02  1.200e+02  1.500e+02]\n      nit: 0\n      jac: [ 4.400e-01  4.160e-01  4.350e-01]\n     nfev: 4\n     njev: 1\n hess_inv: <3x3 LbfgsInvHessProduct with dtype=float64>"
     },
     "execution_count": 16,
     "metadata": {},
     "output_type": "execute_result"
    }
   ],
   "source": [
    "from scipy import optimize\n",
    "import numpy as np\n",
    "\n",
    "def f(x):\n",
    "    return 10.5+0.3*x[0]+0.32*x[1]+0.3*x[2]+0.0007*x[0]**2+0.0004*x[1]**2+0.00045*x[2]**2\n",
    "constraint = ({'type':'eq', 'fun':lambda x: x[0]+x[1]+x[2]-700},{'type':'ineq', 'fun':lambda x: x[0]**2+x[1]**2+x[2]**2})\n",
    "\"\"\"\n",
    "    fun->迭代函数\n",
    "    method->迭代方法\n",
    "    x0->初值\n",
    "    bounds->自变量范围\n",
    "    constraints->限制条件,格式({'type':'eq' or 'ineq','fun': lambda x:...},{})\n",
    "    不等式对应lambda表达式返回值大于0\n",
    "\"\"\"\n",
    "optimize.minimize(fun=f, method='L-BFGS-B',x0=np.array([100,120,150]),bounds=((100,200), (120,250), (150, 300)), constraints=constraint)"
   ],
   "metadata": {
    "collapsed": false,
    "ExecuteTime": {
     "end_time": "2023-11-14T03:40:02.346358400Z",
     "start_time": "2023-11-14T03:40:02.336377800Z"
    }
   },
   "id": "86edf49b02a7d923"
  },
  {
   "cell_type": "code",
   "execution_count": null,
   "outputs": [],
   "source": [],
   "metadata": {
    "collapsed": false
   },
   "id": "ad8ff007a7302a43"
  }
 ],
 "metadata": {
  "kernelspec": {
   "display_name": "Python 3",
   "language": "python",
   "name": "python3"
  },
  "language_info": {
   "codemirror_mode": {
    "name": "ipython",
    "version": 2
   },
   "file_extension": ".py",
   "mimetype": "text/x-python",
   "name": "python",
   "nbconvert_exporter": "python",
   "pygments_lexer": "ipython2",
   "version": "2.7.6"
  }
 },
 "nbformat": 4,
 "nbformat_minor": 5
}
