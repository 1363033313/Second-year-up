{
 "cells": [
  {
   "cell_type": "markdown",
   "source": [
    "# 数学建模笔记\n",
    "\n",
    "这个数学建模笔记是基于华中科技大学马世拓老师的课程（[数学建模导论：基于Python语言]( https://b23.tv/nSu6Jah)）进行记录的，希望大家能给马老师多多三连支持一下\n",
    "\n",
    "## 线性规划模型\n",
    "### 1.1 线性规划模型\n",
    "线代的基础知识，这个没什么好说的\n",
    "线性规划的标准形式：\n",
    "$$\n",
    "    \\min_X C^TX\\quad s.t.\\begin{cases} Ax\\leq b\\\\ AeqX=beq\\\\ lb \\leq X\\leq ub\\end{cases}\n",
    "$$"
   ],
   "metadata": {
    "collapsed": false
   },
   "id": "348c8107336da39c"
  },
  {
   "cell_type": "code",
   "execution_count": null,
   "id": "initial_id",
   "metadata": {
    "collapsed": true
   },
   "outputs": [],
   "source": []
  }
 ],
 "metadata": {
  "kernelspec": {
   "display_name": "Python 3",
   "language": "python",
   "name": "python3"
  },
  "language_info": {
   "codemirror_mode": {
    "name": "ipython",
    "version": 2
   },
   "file_extension": ".py",
   "mimetype": "text/x-python",
   "name": "python",
   "nbconvert_exporter": "python",
   "pygments_lexer": "ipython2",
   "version": "2.7.6"
  }
 },
 "nbformat": 4,
 "nbformat_minor": 5
}
